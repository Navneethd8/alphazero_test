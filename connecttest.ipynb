{
 "cells": [
  {
   "cell_type": "code",
   "execution_count": 1,
   "id": "41a8fb12-7e49-4ebf-854c-43f25c816cdf",
   "metadata": {},
   "outputs": [
    {
     "data": {
      "text/plain": [
       "'1.26.0'"
      ]
     },
     "execution_count": 1,
     "metadata": {},
     "output_type": "execute_result"
    }
   ],
   "source": [
    "import numpy as np\n",
    "np.__version__"
   ]
  },
  {
   "cell_type": "code",
   "execution_count": 12,
   "id": "588b0e81-070f-44d5-873e-7afd17c24371",
   "metadata": {},
   "outputs": [],
   "source": [
    "def __init__(self):\n",
    "    self.row_count=6 # defines number of rows in the grid\n",
    "    self.column_count=7 # defines number of columns in the grid\n",
    "    self.action_size= self.column_count # defines action size as the number of columns as input can only by from the columns\n",
    "    self.in_a_row=4# definesnumber of coins in a row that is needed to win\n",
    "    \n",
    "def get_initial_state(self):\n",
    "    return np.zeros((self.row_count,self.column_count)) # creates a two D array \n",
    "    \n",
    "def get_next_state(self,state,action,player):\n",
    "    row= np.max(np.where(state[:,action]==0))# gets the row of the matrix where the value is zero\n",
    "    state[row,action]=player # assigns the player values to a specific index in a matrix\n",
    "    return state# outputs the state\n",
    "\n",
    "def get_valid_moves(self):\n",
    "        return (state[0] == 0).astype(np.uint8)\n",
    "    \n",
    "def check_win(self,state,action):\n",
    "    if action == None:\n",
    "            return False\n",
    "        \n",
    "    row = np.min(np.where(state[:, action] != 0))\n",
    "    column = action\n",
    "    player = state[row][column]\n",
    "\n",
    "    def count(offset_row, offset_column):\n",
    "        for i in range(1, self.in_a_row):\n",
    "            r = row + offset_row * i\n",
    "            c = action + offset_column * i\n",
    "            if (\n",
    "                r < 0 \n",
    "                or r >= self.row_count\n",
    "                or c < 0 \n",
    "                or c >= self.column_count\n",
    "                or state[r][c] != player\n",
    "            ):\n",
    "                return i - 1\n",
    "        return self.in_a_row - 1\n",
    "\n",
    "    return (\n",
    "        count(1, 0) >= self.in_a_row - 1 # vertical\n",
    "        or (count(0, 1) + count(0, -1)) >= self.in_a_row - 1 # horizontal\n",
    "        or (count(1, 1) + count(-1, -1)) >= self.in_a_row - 1 # top left diagonal\n",
    "        or (count(1, -1) + count(-1, 1)) >= self.in_a_row - 1 # top right diagonal\n",
    "    )\n",
    "\n",
    "def get_value_and_terminated(self):\n",
    "    if self.check_win(state, action):\n",
    "        return 1, True # checks if checkwin is true to terminate\n",
    "    if np.sum(self.get_valid_moves(state)) == 0:\n",
    "        return 0, True # checks if there is a draw by checking if the sum of the valid moves array is 0\n",
    "    return 0, False # for any other cases where the game has to continue\n",
    "\n",
    "def get_opponent(self,player):\n",
    "    return -player\n",
    "\n",
    "def get_opponent_value(self,value):\n",
    "    return -value\n",
    "\n",
    "def change_perspective(self,state,player):\n",
    "    return state*player\n",
    "\n",
    "def get_encoded_state(self,state):\n",
    "    encoded_state = np.stack(\n",
    "            (state == -1, state == 0, state == 1)\n",
    "        ).astype(np.float32)\n",
    "        \n",
    "    return encoded_state\n",
    "    "
   ]
  },
  {
   "cell_type": "code",
   "execution_count": null,
   "id": "783f29af-a6d3-4484-a747-0466cf03d01c",
   "metadata": {},
   "outputs": [],
   "source": []
  }
 ],
 "metadata": {
  "kernelspec": {
   "display_name": "Python 3 (ipykernel)",
   "language": "python",
   "name": "python3"
  },
  "language_info": {
   "codemirror_mode": {
    "name": "ipython",
    "version": 3
   },
   "file_extension": ".py",
   "mimetype": "text/x-python",
   "name": "python",
   "nbconvert_exporter": "python",
   "pygments_lexer": "ipython3",
   "version": "3.11.5"
  }
 },
 "nbformat": 4,
 "nbformat_minor": 5
}
