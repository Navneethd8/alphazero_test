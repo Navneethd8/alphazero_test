{
 "cells": [
  {
   "cell_type": "code",
   "execution_count": 1,
   "id": "41a8fb12-7e49-4ebf-854c-43f25c816cdf",
   "metadata": {},
   "outputs": [
    {
     "data": {
      "text/plain": [
       "'1.26.0'"
      ]
     },
     "execution_count": 1,
     "metadata": {},
     "output_type": "execute_result"
    }
   ],
   "source": [
    "import numpy as np\n",
    "np.__version__"
   ]
  },
  {
   "cell_type": "code",
   "execution_count": null,
   "id": "588b0e81-070f-44d5-873e-7afd17c24371",
   "metadata": {},
   "outputs": [],
   "source": [
    "def __init__(self):\n",
    "    self.row_count=3\n",
    "    self.column_count=3\n",
    "    self.action_size= \n",
    "    "
   ]
  }
 ],
 "metadata": {
  "kernelspec": {
   "display_name": "Python 3 (ipykernel)",
   "language": "python",
   "name": "python3"
  },
  "language_info": {
   "codemirror_mode": {
    "name": "ipython",
    "version": 3
   },
   "file_extension": ".py",
   "mimetype": "text/x-python",
   "name": "python",
   "nbconvert_exporter": "python",
   "pygments_lexer": "ipython3",
   "version": "3.11.5"
  }
 },
 "nbformat": 4,
 "nbformat_minor": 5
}
