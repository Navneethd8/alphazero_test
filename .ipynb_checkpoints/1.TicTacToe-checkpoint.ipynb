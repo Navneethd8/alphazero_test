{
 "cells": [
  {
   "cell_type": "code",
   "execution_count": 1,
   "id": "91853e2b",
   "metadata": {},
   "outputs": [
    {
     "data": {
      "text/plain": [
       "'1.23.2'"
      ]
     },
     "execution_count": 1,
     "metadata": {},
     "output_type": "execute_result"
    }
   ],
   "source": [
    "import numpy as np\n",
    "np.__version__"
   ]
  },
  {
   "cell_type": "code",
   "execution_count": 2,
   "id": "29717356",
   "metadata": {},
   "outputs": [],
   "source": [
    "class TicTacToe:\n",
    "    def __init__(self):# definies an initial function\n",
    "        self.row_count = 3 \n",
    "        # defines row count- Number of rows\n",
    "        self.column_count = 3\n",
    "        # defines column count- Number of columns\n",
    "        self.action_size = self.row_count * self.column_count\n",
    "        # An action size is the amount of rows times the amoutn of columns. Gives the entire sample space \n",
    "        \n",
    "    def get_initial_state(self):# defines as function for the inital state of the player\n",
    "        return np.zeros((self.row_count, self.column_count))\n",
    "    \n",
    "    def get_next_state(self, state, action, player):# defines a function to obtain the next state of the player\n",
    "        row = action // self.column_count # Action divide by the column count\n",
    "        column = action % self.column_count # use modulo to get the remainder for the column of the player\n",
    "        state[row, column] = player # creates a 2D array for the co-ordinate position of the player itslef\n",
    "        return state # returns the 2D array as is \n",
    "    \n",
    "    def get_valid_moves(self, state): # function to get the valid moves possible for the player as well as the AI\n",
    "        return (state.reshape(-1) == 0).astype(np.uint8) # converts the 2D array into a 1D array so that it is easier for computation\n",
    "    \n",
    "    def check_win(self, state, action): # method to tell whether the player has won or not\n",
    "        row = action // self.column_count # gets the row again\n",
    "        column = action % self.column_count # gets the column again\n",
    "        player = state[row, column] # retrieves the board of the player\n",
    "        \n",
    "        return (\n",
    "            np.sum(state[row, :]) == player * self.column_count # calculates if the sum of the row is equal to the player times the column count\n",
    "            or np.sum(state[:, column]) == player * self.row_count # calculates the sum of the column is equal to the player times the row count\n",
    "            or np.sum(np.diag(state)) == player * self.row_count # calculates\n",
    "            or np.sum(np.diag(np.flip(state, axis=0))) == player * self.row_count\n",
    "        )\n",
    "    \n",
    "    def get_value_and_terminated(self, state, action):\n",
    "        if self.check_win(state, action):\n",
    "            return 1, True\n",
    "        if np.sum(self.get_valid_moves(state)) == 0:\n",
    "            return 0, True\n",
    "        return 0, False\n",
    "    \n",
    "    def get_opponent(self, player):\n",
    "        return -player"
   ]
  },
  {
   "cell_type": "code",
   "execution_count": 3,
   "id": "bc112e57",
   "metadata": {},
   "outputs": [
    {
     "name": "stdout",
     "output_type": "stream",
     "text": [
      "[[0. 0. 0.]\n",
      " [0. 0. 0.]\n",
      " [0. 0. 0.]]\n",
      "valid_moves [0, 1, 2, 3, 4, 5, 6, 7, 8]\n",
      "[[0. 1. 0.]\n",
      " [0. 0. 0.]\n",
      " [0. 0. 0.]]\n",
      "valid_moves [0, 2, 3, 4, 5, 6, 7, 8]\n",
      "[[ 0.  1.  0.]\n",
      " [ 0. -1.  0.]\n",
      " [ 0.  0.  0.]]\n",
      "valid_moves [0, 2, 3, 5, 6, 7, 8]\n",
      "[[ 1.  1.  0.]\n",
      " [ 0. -1.  0.]\n",
      " [ 0.  0.  0.]]\n",
      "valid_moves [2, 3, 5, 6, 7, 8]\n",
      "[[ 1.  1. -1.]\n",
      " [ 0. -1.  0.]\n",
      " [ 0.  0.  0.]]\n",
      "valid_moves [3, 5, 6, 7, 8]\n",
      "[[ 1.  1. -1.]\n",
      " [ 0. -1.  0.]\n",
      " [ 0.  0.  1.]]\n",
      "valid_moves [3, 5, 6, 7]\n",
      "[[ 1.  1. -1.]\n",
      " [ 0. -1.  0.]\n",
      " [-1.  0.  1.]]\n",
      "-1 won\n"
     ]
    }
   ],
   "source": [
    "tictactoe = TicTacToe()\n",
    "player = 1\n",
    "\n",
    "state = tictactoe.get_initial_state()\n",
    "\n",
    "\n",
    "while True:\n",
    "    print(state)\n",
    "    valid_moves = tictactoe.get_valid_moves(state)\n",
    "    print(\"valid_moves\", [i for i in range(tictactoe.action_size) if valid_moves[i] == 1])\n",
    "    action = int(input(f\"{player}:\"))\n",
    "    \n",
    "    if valid_moves[action] == 0:\n",
    "        print(\"action not valid\")\n",
    "        continue\n",
    "        \n",
    "    state = tictactoe.get_next_state(state, action, player)\n",
    "    \n",
    "    value, is_terminal = tictactoe.get_value_and_terminated(state, action)\n",
    "    \n",
    "    if is_terminal:\n",
    "        print(state)\n",
    "        if value == 1:\n",
    "            print(player, \"won\")\n",
    "        else:\n",
    "            print(\"draw\")\n",
    "        break\n",
    "        \n",
    "    player = tictactoe.get_opponent(player)\n",
    "\n"
   ]
  }
 ],
 "metadata": {
  "kernelspec": {
   "display_name": "Python 3 (ipykernel)",
   "language": "python",
   "name": "python3"
  },
  "language_info": {
   "codemirror_mode": {
    "name": "ipython",
    "version": 3
   },
   "file_extension": ".py",
   "mimetype": "text/x-python",
   "name": "python",
   "nbconvert_exporter": "python",
   "pygments_lexer": "ipython3",
   "version": "3.11.5"
  },
  "vscode": {
   "interpreter": {
    "hash": "2177f1ca12c1330a133c1d40b46100b268ab447cddcbdfdc0c7b2b7e4840e700"
   }
  }
 },
 "nbformat": 4,
 "nbformat_minor": 5
}
